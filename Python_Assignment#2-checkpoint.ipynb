{
 "cells": [
  {
   "cell_type": "markdown",
   "metadata": {},
   "source": [
    "# Q1 Write a program which takes 5 inputs from user for different subject’smarks, total it and generate mark sheet using grades ?"
   ]
  },
  {
   "cell_type": "code",
   "execution_count": 1,
   "metadata": {},
   "outputs": [
    {
     "name": "stdout",
     "output_type": "stream",
     "text": [
      "Enter Math Marks: 75\n",
      "Enter Science Marks: 67\n",
      "Enter English Marks: 89\n",
      "Enter History Marks: 82\n",
      "Enter Computer Marks: 67\n",
      "Total obtained marks  380  out of  500\n",
      "your % 76.0\n",
      "Your Grade is 'B'.\n"
     ]
    }
   ],
   "source": [
    "Math = int(input(\"Enter Math Marks: \"))\n",
    "Science = int(input(\"Enter Science Marks: \"))\n",
    "English = int(input(\"Enter English Marks: \"))\n",
    "History = int(input(\"Enter History Marks: \"))\n",
    "Computer = int(input(\"Enter Computer Marks: \"))\n",
    "TOb = Math+Science+English+History+Computer\n",
    "Total = 500\n",
    "print(\"Total obtained marks \",TOb,\" out of \",Total)\n",
    "per = TOb/Total*100\n",
    "print(\"your %\",per)\n",
    "if per > 100:\n",
    "        print(\"Invalid %\")\n",
    "elif per >= 80 and per <= 100:\n",
    "        print(\"Your Grade is 'A'.\")\n",
    "elif per >= 60 and per <= 79:\n",
    "        print(\"Your Grade is 'B'.\")\n",
    "elif per >= 50 and per <= 59:\n",
    "        print(\"Your Grade is 'C'.\")\n",
    "elif per >= 40 and per <= 49:\n",
    "        print(\"Your Grade is 'D'.\") \n",
    "else:\n",
    "        print(\"You are Fail.\")"
   ]
  },
  {
   "cell_type": "markdown",
   "metadata": {},
   "source": [
    "# Q2Write a program which take input from user and identify that the given number is even or odd?"
   ]
  },
  {
   "cell_type": "code",
   "execution_count": 2,
   "metadata": {},
   "outputs": [
    {
     "name": "stdout",
     "output_type": "stream",
     "text": [
      "Enter A Number: 4\n",
      "The Number is Even\n"
     ]
    }
   ],
   "source": [
    "Number = int(input(\"Enter A Number: \"))\n",
    "if Number%2 ==0:\n",
    "        print(\"The Number is Even\")\n",
    "else:\n",
    "        print(\"The Number is Odd\")\n"
   ]
  },
  {
   "cell_type": "markdown",
   "metadata": {},
   "source": [
    "# Q3Write a program which print the length of the list?"
   ]
  },
  {
   "cell_type": "code",
   "execution_count": 3,
   "metadata": {},
   "outputs": [
    {
     "name": "stdout",
     "output_type": "stream",
     "text": [
      "The Length of Given Array is:  4\n"
     ]
    }
   ],
   "source": [
    "Arr=['Hitesh',30,5.4,False]\n",
    "print(\"The Length of Given Array is: \",len(Arr))"
   ]
  },
  {
   "cell_type": "markdown",
   "metadata": {},
   "source": [
    "# Q4 Write a Python program to sum all the numeric items in a list?"
   ]
  },
  {
   "cell_type": "code",
   "execution_count": 4,
   "metadata": {},
   "outputs": [
    {
     "name": "stdout",
     "output_type": "stream",
     "text": [
      "The Sum of all elements in the given list:  176.124\n"
     ]
    }
   ],
   "source": [
    "Arr = [34,.034,97.09,45]\n",
    "print(\"The Sum of all elements in the given list: \",sum(Arr))"
   ]
  },
  {
   "cell_type": "markdown",
   "metadata": {},
   "source": [
    "# Q5Write a Python program to get the largest number from a numeric list."
   ]
  },
  {
   "cell_type": "code",
   "execution_count": 5,
   "metadata": {},
   "outputs": [
    {
     "name": "stdout",
     "output_type": "stream",
     "text": [
      "The Sum of all elements in the given list:  97.09\n"
     ]
    }
   ],
   "source": [
    "Arr = [34,.034,97.09,45]\n",
    "print(\"The Sum of all elements in the given list: \",max(Arr))"
   ]
  },
  {
   "cell_type": "markdown",
   "metadata": {},
   "source": [
    "# Question #6"
   ]
  },
  {
   "cell_type": "code",
   "execution_count": 6,
   "metadata": {},
   "outputs": [
    {
     "name": "stdout",
     "output_type": "stream",
     "text": [
      "Elements less than 5 are:  [1, 1, 2, 3, 4]\n"
     ]
    }
   ],
   "source": [
    "Arr = [1,1,2,3,4,5,6,7,8,0]\n",
    "print(\"Elements less than 5 are: \",Arr[:5])"
   ]
  },
  {
   "cell_type": "code",
   "execution_count": null,
   "metadata": {},
   "outputs": [],
   "source": []
  }
 ],
 "metadata": {
  "kernelspec": {
   "display_name": "Python 3",
   "language": "python",
   "name": "python3"
  },
  "language_info": {
   "codemirror_mode": {
    "name": "ipython",
    "version": 3
   },
   "file_extension": ".py",
   "mimetype": "text/x-python",
   "name": "python",
   "nbconvert_exporter": "python",
   "pygments_lexer": "ipython3",
   "version": "3.7.4"
  }
 },
 "nbformat": 4,
 "nbformat_minor": 2
}
