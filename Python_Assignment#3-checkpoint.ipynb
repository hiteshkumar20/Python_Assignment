{
 "cells": [
  {
   "cell_type": "markdown",
   "metadata": {},
   "source": [
    "# Q1 Make a calculator using Python with addition , subtraction , multiplication ,division and power"
   ]
  },
  {
   "cell_type": "code",
   "execution_count": 2,
   "metadata": {},
   "outputs": [
    {
     "name": "stdout",
     "output_type": "stream",
     "text": [
      "Enter a Number : 5\n",
      "Enter  an other Number : 4\n",
      "Enter operation eg (-,+,/,*,** %): +\n",
      "Addition of  5.0  and  4.0  is  9.0\n"
     ]
    }
   ],
   "source": [
    "number = float(input('Enter a Number : '))\n",
    "number1 = float(input('Enter  an other Number : '))\n",
    "operator = input('Enter operation eg (-,+,/,*,** %): ')\n",
    "\n",
    "if (operator == '-'):\n",
    "    result = number - number1\n",
    "    print(\"Subtraction of \",number,\" and \",number1,\" is \",result)\n",
    "elif(operator == '+'):\n",
    "    result = number + number1\n",
    "    print(\"Addition of \",number,\" and \",number1,\" is \",result)\n",
    "elif(operator == '/'):\n",
    "    result = number/number1\n",
    "    print(\"Division of \",number,\" and \",number1,\" is \",result)\n",
    "elif(operator == '*'):\n",
    "    result = number* number1\n",
    "    print(\"Multiplication of \",number,\" and \",number1,\" is \",result)\n",
    "elif(operator == '**'):\n",
    "    result =number ** number1\n",
    "    print(number,\" power \",number1,\" is: \",result)\n",
    "elif(operatorator =='%'):\n",
    "    result= number%number1\n",
    "    print(number,\"mod\",number1,\" is: \",result)\n",
    "else:\n",
    "    print('Enter correct operator')"
   ]
  },
  {
   "cell_type": "markdown",
   "metadata": {},
   "source": [
    "# Q2Write a program to check if there is any numeric value in list using for loop "
   ]
  },
  {
   "cell_type": "code",
   "execution_count": 3,
   "metadata": {},
   "outputs": [
    {
     "name": "stdout",
     "output_type": "stream",
     "text": [
      "Found numeric value:  234\n",
      "Found numeric value:  30\n",
      "Found numeric value:  20\n"
     ]
    }
   ],
   "source": [
    "List  = [\"Hello\", \"World\", 234, \"Python\", \"Programming\",False,30,0.331,20]\n",
    "\n",
    "for i in List:\n",
    "    if type(i) == int:\n",
    "        print(\"Found numeric value: \",i)"
   ]
  },
  {
   "cell_type": "markdown",
   "metadata": {},
   "source": [
    "# Q3 Write a Python script to add a key to a dictionary"
   ]
  },
  {
   "cell_type": "code",
   "execution_count": 4,
   "metadata": {},
   "outputs": [
    {
     "name": "stdout",
     "output_type": "stream",
     "text": [
      "Before Update\n",
      "Info['Name']:  hitesh\n",
      "Info['Age']:  22\n",
      "Info['Department']:  Computer system engineering\n",
      "After Update\n",
      "Info['Name']:  hitesh\n",
      "Info['Age']:  30\n",
      "Info['School']:  KBSAS Campus\n"
     ]
    }
   ],
   "source": [
    "Info = {'Name': 'hitesh', 'Age': 22, 'Department': 'Computer system engineering'}\n",
    "\n",
    "print('''Before Update''')\n",
    "print (\"Info['Name']: \", Info['Name'])\n",
    "print (\"Info['Age']: \", Info['Age'])\n",
    "print (\"Info['Department']: \", Info['Department'])\n",
    "\n",
    "print('''After Update''')\n",
    "\n",
    "Info= {'Name': 'hitesh', 'Age': 22, 'Department': 'Computer system enginnering'}\n",
    "Info['Age'] = 30; # update existing entry\n",
    "Info['School'] = \"KBSAS Campus\" # Add new entry\n",
    "\n",
    "print (\"Info['Name']: \", Info['Name'])\n",
    "print (\"Info['Age']: \", Info['Age'])\n",
    "print (\"Info['School']: \", Info['School'])"
   ]
  },
  {
   "cell_type": "code",
   "execution_count": 6,
   "metadata": {},
   "outputs": [
    {
     "name": "stdout",
     "output_type": "stream",
     "text": [
      "Before Update.\n",
      "{'Price1': 291, 'Price2': 485, 'Price3': 645}\n",
      "After Updating of Keys.\n",
      "{'Price1': 291, 'Price2': 485, 'Price3': 645, 'Price4': 258}\n"
     ]
    }
   ],
   "source": [
    "print('Before Update.')\n",
    "data = {\"Price1\":291, \"Price2\":485,\"Price3\":645}  \n",
    "print(data)\n",
    "\n",
    "print(\"After Updating of Keys.\")\n",
    "\n",
    "data.update({\"Price4\":258}) #1st Method\n",
    "print(data)"
   ]
  },
  {
   "cell_type": "markdown",
   "metadata": {},
   "source": [
    "# Q4 write a program sum all numeric items in dictionary python"
   ]
  },
  {
   "cell_type": "code",
   "execution_count": 9,
   "metadata": {},
   "outputs": [
    {
     "name": "stdout",
     "output_type": "stream",
     "text": [
      "The sum of items in dictionary is: 62\n"
     ]
    }
   ],
   "source": [
    "d = {'key1': 1,'key2': 14,'key3': 47}\n",
    "print('The sum of items in dictionary is:',sum(d.values()))"
   ]
  },
  {
   "cell_type": "markdown",
   "metadata": {},
   "source": [
    "# Q5 write a program to identify duplicates in list python"
   ]
  },
  {
   "cell_type": "code",
   "execution_count": null,
   "metadata": {},
   "outputs": [],
   "source": []
  }
 ],
 "metadata": {
  "kernelspec": {
   "display_name": "Python 3",
   "language": "python",
   "name": "python3"
  },
  "language_info": {
   "codemirror_mode": {
    "name": "ipython",
    "version": 3
   },
   "file_extension": ".py",
   "mimetype": "text/x-python",
   "name": "python",
   "nbconvert_exporter": "python",
   "pygments_lexer": "ipython3",
   "version": "3.7.4"
  }
 },
 "nbformat": 4,
 "nbformat_minor": 2
}
